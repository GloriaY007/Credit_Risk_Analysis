version https://git-lfs.github.com/spec/v1
oid sha256:4a2e4eb399179d9bc9445cd28b82bf6a75308c824916e67426fe65be26acea31
size 30497
